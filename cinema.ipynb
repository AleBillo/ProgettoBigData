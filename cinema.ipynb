{
 "cells": [
  {
   "cell_type": "code",
   "execution_count": 1,
   "metadata": {},
   "outputs": [],
   "source": [
    "# caricamento delle librerie fondamentali\n",
    "import pandas as pd\n",
    "import numpy as np\n",
    "import matplotlib.pyplot as plt\n",
    "\n",
    "# caricamento dei dati dal file CSV \n",
    "data_path = \"cinemaTicket_Ref.csv\"  # Percorso del file CSV"
   ]
  },
  {
   "cell_type": "code",
   "execution_count": 2,
   "metadata": {},
   "outputs": [
    {
     "name": "stdout",
     "output_type": "stream",
     "text": [
      "Prime righe del dataset:\n",
      "    film_code  cinema_code  total_sales  tickets_sold  tickets_out  show_time  \\\n",
      "0       1492          304      3900000            26            0          4   \n",
      "1       1492          352      3360000            42            0          5   \n",
      "2       1492          489      2560000            32            0          4   \n",
      "3       1492          429      1200000            12            0          1   \n",
      "4       1492          524      1200000            15            0          3   \n",
      "\n",
      "   occu_perc  ticket_price  ticket_use    capacity        date  month  \\\n",
      "0       4.26      150000.0          26  610.328638  2018-05-05      5   \n",
      "1       8.08       80000.0          42  519.801980  2018-05-05      5   \n",
      "2      20.00       80000.0          32  160.000000  2018-05-05      5   \n",
      "3      11.01      100000.0          12  108.991826  2018-05-05      5   \n",
      "4      16.67       80000.0          15   89.982004  2018-05-05      5   \n",
      "\n",
      "   quarter  day  \n",
      "0        2    5  \n",
      "1        2    5  \n",
      "2        2    5  \n",
      "3        2    5  \n",
      "4        2    5  \n",
      "Valori nulli per colonna:\n",
      " film_code         0\n",
      "cinema_code       0\n",
      "total_sales       0\n",
      "tickets_sold      0\n",
      "tickets_out       0\n",
      "show_time         0\n",
      "occu_perc       125\n",
      "ticket_price      0\n",
      "ticket_use        0\n",
      "capacity        125\n",
      "date              0\n",
      "month             0\n",
      "quarter           0\n",
      "day               0\n",
      "dtype: int64\n",
      "Righe duplicate: 106\n"
     ]
    }
   ],
   "source": [
    "# PUNTO 1: Esplorazione dei dati\n",
    "# carico i dati in un DataFrame di pandas per le analisi e mostra le prime righe per capire la struttura dei dati\n",
    "df = pd.read_csv(data_path)\n",
    "print(\"Prime righe del dataset:\\n\", df.head())\n",
    "\n",
    "#un aggiunta di informazioni meno \"importanti\"\n",
    "print(\"Valori nulli per colonna:\\n\", df.isnull().sum())\n",
    "print(\"Righe duplicate:\", df.duplicated().sum())"
   ]
  },
  {
   "cell_type": "code",
   "execution_count": 3,
   "metadata": {},
   "outputs": [
    {
     "name": "stdout",
     "output_type": "stream",
     "text": [
      "<class 'pandas.core.frame.DataFrame'>\n",
      "RangeIndex: 142524 entries, 0 to 142523\n",
      "Data columns (total 14 columns):\n",
      " #   Column        Non-Null Count   Dtype  \n",
      "---  ------        --------------   -----  \n",
      " 0   film_code     142524 non-null  int64  \n",
      " 1   cinema_code   142524 non-null  int64  \n",
      " 2   total_sales   142524 non-null  int64  \n",
      " 3   tickets_sold  142524 non-null  int64  \n",
      " 4   tickets_out   142524 non-null  int64  \n",
      " 5   show_time     142524 non-null  int64  \n",
      " 6   occu_perc     142399 non-null  float64\n",
      " 7   ticket_price  142524 non-null  float64\n",
      " 8   ticket_use    142524 non-null  int64  \n",
      " 9   capacity      142399 non-null  float64\n",
      " 10  date          142524 non-null  object \n",
      " 11  month         142524 non-null  int64  \n",
      " 12  quarter       142524 non-null  int64  \n",
      " 13  day           142524 non-null  int64  \n",
      "dtypes: float64(3), int64(10), object(1)\n",
      "memory usage: 15.2+ MB\n",
      "Informazioni sul dataset:\n",
      " None\n"
     ]
    }
   ],
   "source": [
    "# mostro anche le informazioni sul dataset, come i tipi di dati e valori mancanti\n",
    "print(\"Informazioni sul dataset:\\n\", df.info())"
   ]
  },
  {
   "cell_type": "code",
   "execution_count": 4,
   "metadata": {},
   "outputs": [
    {
     "name": "stdout",
     "output_type": "stream",
     "text": [
      "Matrice di correlazione:\n",
      "               film_code  cinema_code  total_sales  tickets_sold  tickets_out  \\\n",
      "film_code      1.000000     0.029530     0.009802     -0.005588    -0.000920   \n",
      "cinema_code    0.029530     1.000000    -0.012910     -0.053716     0.019534   \n",
      "total_sales    0.009802    -0.012910     1.000000      0.915176     0.066810   \n",
      "tickets_sold  -0.005588    -0.053716     0.915176      1.000000     0.071498   \n",
      "tickets_out   -0.000920     0.019534     0.066810      0.071498     1.000000   \n",
      "show_time      0.076670    -0.187125     0.509812      0.522088     0.078860   \n",
      "occu_perc     -0.104120     0.125542     0.414418      0.493707     0.044407   \n",
      "ticket_price   0.104820     0.005079     0.272450      0.103596     0.011916   \n",
      "ticket_use    -0.005582    -0.053957     0.915112      0.999946     0.061091   \n",
      "capacity       0.061224    -0.353402     0.376134      0.425468     0.037599   \n",
      "month          0.851380     0.051027    -0.080568     -0.103477    -0.012448   \n",
      "quarter        0.800933     0.049646    -0.051433     -0.062666    -0.007210   \n",
      "day           -0.028686    -0.000270    -0.000424     -0.005037     0.004441   \n",
      "\n",
      "              show_time  occu_perc  ticket_price  ticket_use  capacity  \\\n",
      "film_code      0.076670  -0.104120      0.104820   -0.005582  0.061224   \n",
      "cinema_code   -0.187125   0.125542      0.005079   -0.053957 -0.353402   \n",
      "total_sales    0.509812   0.414418      0.272450    0.915112  0.376134   \n",
      "tickets_sold   0.522088   0.493707      0.103596    0.999946  0.425468   \n",
      "tickets_out    0.078860   0.044407      0.011916    0.061091  0.037599   \n",
      "show_time      1.000000   0.055617      0.176274    0.521625  0.681645   \n",
      "occu_perc      0.055617   1.000000      0.084666    0.493585 -0.141262   \n",
      "ticket_price   0.176274   0.084666      1.000000    0.103544  0.004287   \n",
      "ticket_use     0.521625   0.493585      0.103544    1.000000  0.425370   \n",
      "capacity       0.681645  -0.141262      0.004287    0.425370  1.000000   \n",
      "month         -0.023297  -0.145100      0.048007   -0.103418 -0.025265   \n",
      "quarter       -0.020643  -0.088856      0.042031   -0.062634 -0.023940   \n",
      "day            0.007646  -0.011061      0.001113   -0.005087  0.006255   \n",
      "\n",
      "                 month   quarter       day  \n",
      "film_code     0.851380  0.800933 -0.028686  \n",
      "cinema_code   0.051027  0.049646 -0.000270  \n",
      "total_sales  -0.080568 -0.051433 -0.000424  \n",
      "tickets_sold -0.103477 -0.062666 -0.005037  \n",
      "tickets_out  -0.012448 -0.007210  0.004441  \n",
      "show_time    -0.023297 -0.020643  0.007646  \n",
      "occu_perc    -0.145100 -0.088856 -0.011061  \n",
      "ticket_price  0.048007  0.042031  0.001113  \n",
      "ticket_use   -0.103418 -0.062634 -0.005087  \n",
      "capacity     -0.025265 -0.023940  0.006255  \n",
      "month         1.000000  0.942237 -0.161290  \n",
      "quarter       0.942237  1.000000 -0.165723  \n",
      "day          -0.161290 -0.165723  1.000000  \n"
     ]
    }
   ],
   "source": [
    "# PUNTO 2. analisi statistica\n",
    "# calcola la matrice di correlazione per vedere relazioni tra le variabili e filtro solo le colonne numeriche (altrimenti non funzionava)\n",
    "colonne_numeriche = df.select_dtypes(include=[np.number])\n",
    "\n",
    "# calcolo la matrice di correlazione\n",
    "correlation = colonne_numeriche.corr()\n",
    "print(\"Matrice di correlazione:\\n\", correlation)"
   ]
  },
  {
   "cell_type": "code",
   "execution_count": 5,
   "metadata": {},
   "outputs": [
    {
     "name": "stdout",
     "output_type": "stream",
     "text": [
      "Vendite totali per mese:\n",
      " month\n",
      "2         32210000\n",
      "3     193433625732\n",
      "4     348614664007\n",
      "5     239595373317\n",
      "6     104001473893\n",
      "7     264855462688\n",
      "8     258296800764\n",
      "9      96569594964\n",
      "10    231675849820\n",
      "11     22708024998\n",
      "Name: total_sales, dtype: int64\n"
     ]
    },
    {
     "data": {
      "text/plain": [
       "<Axes: xlabel='month'>"
      ]
     },
     "execution_count": 5,
     "metadata": {},
     "output_type": "execute_result"
    },
    {
     "data": {
      "image/png": "[encoded data removed]",
      "text/plain": [
       "<Figure size 640x480 with 1 Axes>"
      ]
     },
     "metadata": {},
     "output_type": "display_data"
    }
   ],
   "source": [
    "# mi creo una \"variabile\" vendite mensili per potermela gestire quando andro' a plottare\n",
    "vendite_mensili = df.groupby('month')['total_sales'].sum()\n",
    "print(\"Vendite totali per mese:\\n\", vendite_mensili)\n",
    "vendite_mensili.plot(kind=\"bar\", color='red')"
   ]
  },
  {
   "cell_type": "code",
   "execution_count": 8,
   "metadata": {},
   "outputs": [],
   "source": [
    "#PUNTO 3. analisi di una correlazione incrociata\n",
    "# converto la colonna 'date' nel formato datetime e creo 'day_of_week'\n",
    "df['date'] = pd.to_datetime(df['date'])\n",
    "df['day_of_week'] = df['date'].dt.day_name()\n",
    "\n",
    "# calcolo il prezzo medio del biglietto per giorno della settimana\n",
    "prezzo_medio_per_giorno = df.groupby('day_of_week')['ticket_price'].mean()\n",
    "prezzo_medio_per_giorno = prezzo_medio_per_giorno / 10000 #divido per la formattazione quando andrò a plottare"
   ]
  },
  {
   "cell_type": "code",
   "execution_count": null,
   "metadata": {},
   "outputs": [],
   "source": [
    "# visualizzazione della correlazione tra il giorno della settimana e del prezzo medio del biglietto quel giorno\n",
    "plt.figure(figsize=(6, 5))\n",
    "prezzo_medio_per_giorno.plot(kind='bar', color='green', edgecolor='black')\n",
    "plt.title('Prezzo Medio del Biglietto per Giorno della Settimana')\n",
    "plt.xlabel('Giorno della Settimana')\n",
    "plt.ylabel('Prezzo Medio del Biglietto')\n",
    "plt.gca().get_yaxis().set_major_formatter(plt.FuncFormatter(lambda x, _: f'${x:.1f}')) #metodo per mettere il dollaro nella label dell'asse y, sfrutto gca\n",
    "plt.show()"
   ]
  },
  {
   "cell_type": "code",
   "execution_count": null,
   "metadata": {},
   "outputs": [],
   "source": [
    "# PUNTO 4. quali giorni della settimana generano più vendite.\n",
    "# calcolo la distribuzione giornaliera\n",
    "vendite_giornaliere = df.groupby('day_of_week')['total_sales'].sum()\n",
    "percentuale_vendite = (vendite_giornaliere / vendite_giornaliere.sum()) * 100\n"
   ]
  },
  {
   "cell_type": "code",
   "execution_count": null,
   "metadata": {},
   "outputs": [],
   "source": [
    "# creo un grafico a barre delle vendite\n",
    "plt.figure(figsize=(6, 5))\n",
    "vendite_giornaliere.plot(kind='bar', color='orange', edgecolor='black')\n",
    "plt.title('Vendite Totali per Giorno della Settimana')\n",
    "plt.xlabel('Giorno della Settimana')\n",
    "plt.ylabel('Vendite Totali')\n",
    "plt.show()"
   ]
  },
  {
   "cell_type": "code",
   "execution_count": null,
   "metadata": {},
   "outputs": [],
   "source": [
    "# creo un diagramma a torta della percentuale\n",
    "plt.figure(figsize=(5, 5))\n",
    "percentuale_vendite.plot(kind='pie', autopct='%1.1f%%', startangle=90, colors=plt.cm.Paired.colors)\n",
    "plt.title('Contributo Percentuale delle Vendite per Giorno della Settimana')\n",
    "plt.ylabel('')  # rimuovo l'etichetta sull'asse Y\n",
    "plt.show()"
   ]
  },
  {
   "cell_type": "code",
   "execution_count": null,
   "metadata": {},
   "outputs": [],
   "source": [
    "# PUNTO 5. la regressione lineare\n",
    "# analizzo la relazione tra \"Prezzo del Biglietto\" e di \"Vendite Totali\"\n",
    "# preparo le variabili indipendente e dipendente \n",
    "\n",
    "#array monodimensionali (altrimenti mi dava errore)\n",
    "X = df['ticket_price'].values\n",
    "y = df['total_sales'].values\n",
    "\n",
    "# calcolo la media di X e y\n",
    "media_X = np.mean(X)\n",
    "media_y = np.mean(y)\n",
    "\n",
    "# calcolo il coefficiente angolare (b1) e l'intercetta (b0)\n",
    "numeratore = np.sum((X - media_X) * (y - media_y))  # prodotto scalare\n",
    "denominatore = np.sum((X - media_X)**2)            # varianza di X\n",
    "coefficiente_angolare = numeratore / denominatore\n",
    "intercetta = media_y - coefficiente_angolare * media_X\n",
    "\n",
    "# stampo i risultati della regressione per vederli scritti\n",
    "print(f\"Coefficiente angolare: {coefficiente_angolare}\")\n",
    "print(f\"Intercetta: {intercetta}\")\n",
    "\n",
    "# definisci una funzione per fare previsioni basate sulla regressione, come nell'esercizio della moneta\n",
    "def previsioni(prezzo):\n",
    "    return intercetta + coefficiente_angolare * prezzo\n",
    "\n",
    "# calcolo le previsioni e visualizzo i risultati\n",
    "y_pred = previsioni(X)\n",
    "\n",
    "plt.figure(figsize=(8, 5))\n",
    "plt.scatter(X, y, color='blue', label='Dati Reali')\n",
    "plt.plot(X, y_pred, color='red', label='Linea di Regressione')\n",
    "plt.title('Regressione Lineare: Prezzo del Biglietto vs Vendite Totali')\n",
    "plt.xlabel('Prezzo del Biglietto')\n",
    "plt.ylabel('Vendite Totali')\n",
    "plt.legend()\n",
    "plt.show()"
   ]
  }
 ],
 "metadata": {
  "kernelspec": {
   "display_name": "Python 3",
   "language": "python",
   "name": "python3"
  },
  "language_info": {
   "codemirror_mode": {
    "name": "ipython",
    "version": 3
   },
   "file_extension": ".py",
   "mimetype": "text/x-python",
   "name": "python",
   "nbconvert_exporter": "python",
   "pygments_lexer": "ipython3",
   "version": "3.12.6"
  }
 },
 "nbformat": 4,
 "nbformat_minor": 2
}
