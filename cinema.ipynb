{
 "cells": [
  {
   "cell_type": "code",
   "execution_count": 1,
   "metadata": {},
   "outputs": [],
   "source": [
    "# caricamento delle librerie fondamentali\n",
    "import pandas as pd\n",
    "import numpy as np\n",
    "import matplotlib.pyplot as plt\n",
    "\n",
    "# caricamento dei dati dal file CSV \n",
    "data_path = \"cinemaTicket_Ref.csv\"  # Percorso del file CSV"
   ]
  },
  {
   "cell_type": "code",
   "execution_count": null,
   "metadata": {},
   "outputs": [],
   "source": [
    "# PUNTO 1: Esplorazione dei dati\n",
    "# carico i dati in un DataFrame di pandas per le analisi e mostra le prime righe per capire la struttura dei dati\n",
    "df = pd.read_csv(data_path)\n",
    "print(\"Prime righe del dataset:\\n\", df.head())\n",
    "\n",
    "#un aggiunta di informazioni meno \"importanti\"\n",
    "print(\"Valori nulli per colonna:\\n\", df.isnull().sum())\n",
    "print(\"Righe duplicate:\", df.duplicated().sum())"
   ]
  },
  {
   "cell_type": "code",
   "execution_count": null,
   "metadata": {},
   "outputs": [],
   "source": [
    "# mostro anche le informazioni sul dataset, come i tipi di dati e valori mancanti\n",
    "print(\"Informazioni sul dataset:\\n\", df.info())"
   ]
  },
  {
   "cell_type": "code",
   "execution_count": null,
   "metadata": {},
   "outputs": [],
   "source": [
    "# calcolo le  statistiche descrittive per avere un'idea delle distribuzioni e delle caratteristiche numeriche\n",
    "print(\"Statistiche descrittive:\\n\", df.describe())"
   ]
  },
  {
   "cell_type": "code",
   "execution_count": null,
   "metadata": {},
   "outputs": [],
   "source": [
    "# PUNTO 2. analisi statistica\n",
    "# calcola la matrice di correlazione per vedere relazioni tra le variabili e filtro solo le colonne numeriche (altrimenti non funzionava)\n",
    "colonne_numeriche = df.select_dtypes(include=[np.number])\n",
    "\n",
    "# calcolo la matrice di correlazione\n",
    "correlation = colonne_numeriche.corr()\n",
    "print(\"Matrice di correlazione:\\n\", correlation)"
   ]
  },
  {
   "cell_type": "code",
   "execution_count": null,
   "metadata": {},
   "outputs": [],
   "source": [
    "# identifica le colonne utili per, ipoteticmanete, delle analisi approfondite future\n",
    "colonne_utili = ['ticket_price', 'day_of_week', 'total_sales']\n",
    "print(\"Colonne utili selezionate:\", colonne_utili)"
   ]
  },
  {
   "cell_type": "code",
   "execution_count": 7,
   "metadata": {},
   "outputs": [],
   "source": [
    "# mi creo una \"variabile\" vendite mensili per potermela gestire quando andro' a plottare\n",
    "#vendite_mensili = df.groupby('month')['total_sales'].sum()\n",
    "#print(\"Vendite totali per mese:\\n\", vendite_mensili)"
   ]
  },
  {
   "cell_type": "code",
   "execution_count": null,
   "metadata": {},
   "outputs": [],
   "source": [
    "#PUNTO 3. Analisi della correlazione incrociata\n",
    "# Converti la colonna 'date' in formato datetime e crea 'day_of_week'\n",
    "df['date'] = pd.to_datetime(df['date'])\n",
    "df['day_of_week'] = df['date'].dt.day_name()\n",
    "\n",
    "# Calcola il prezzo medio del biglietto per giorno della settimana\n",
    "prezzo_medio_per_giorno = df.groupby('day_of_week')['ticket_price'].mean()\n",
    "prezzo_medio_per_giorno = prezzo_medio_per_giorno / 10000"
   ]
  },
  {
   "cell_type": "code",
   "execution_count": null,
   "metadata": {},
   "outputs": [],
   "source": [
    "# Visualizza la correlazione tra giorno della settimana e prezzo medio\n",
    "plt.figure(figsize=(6, 5))\n",
    "prezzo_medio_per_giorno.plot(kind='bar', color='green', edgecolor='black')\n",
    "plt.title('Prezzo Medio del Biglietto per Giorno della Settimana')\n",
    "plt.xlabel('Giorno della Settimana')\n",
    "plt.ylabel('Prezzo Medio del Biglietto')\n",
    "plt.gca().get_yaxis().set_major_formatter(plt.FuncFormatter(lambda x, _: f'${x:.1f}'))\n",
    "plt.show()\n"
   ]
  }
 ],
 "metadata": {
  "kernelspec": {
   "display_name": "Python 3",
   "language": "python",
   "name": "python3"
  },
  "language_info": {
   "codemirror_mode": {
    "name": "ipython",
    "version": 3
   },
   "file_extension": ".py",
   "mimetype": "text/x-python",
   "name": "python",
   "nbconvert_exporter": "python",
   "pygments_lexer": "ipython3",
   "version": "3.12.6"
  }
 },
 "nbformat": 4,
 "nbformat_minor": 2
}
