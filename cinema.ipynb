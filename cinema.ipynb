{
 "cells": [
  {
   "cell_type": "code",
   "execution_count": 5,
   "metadata": {},
   "outputs": [],
   "source": [
    "# caricamento delle librerie fondamentali\n",
    "import pandas as pd\n",
    "import numpy as np\n",
    "import matplotlib.pyplot as plt\n",
    "\n",
    "# caricamento dei dati dal file CSV \n",
    "data_path = \"cinemaTicket_Ref.csv\"  # Percorso del file CSV"
   ]
  },
  {
   "cell_type": "code",
   "execution_count": null,
   "metadata": {},
   "outputs": [],
   "source": [
    "# PUNTO 1: Esplorazione dei dati\n",
    "# carico i dati in un DataFrame di pandas per le analisi e mostra le prime righe per capire la struttura dei dati\n",
    "df = pd.read_csv(data_path)\n",
    "print(\"Prime righe del dataset:\\n\", df.head())\n",
    "\n",
    "# mostro anche le informazioni sul dataset, come i tipi di dati e valori mancanti\n",
    "print(\"Informazioni sul dataset:\\n\", df.info())\n",
    "\n",
    "# calcolo le  statistiche descrittive per avere un'idea delle distribuzioni e delle caratteristiche numeriche\n",
    "print(\"Statistiche descrittive:\\n\", df.describe())\n",
    "\n",
    "#un aggiunta di informazioni meno importanti\n",
    "print(\"Valori nulli per colonna:\\n\", df.isnull().sum())\n",
    "print(\"Righe duplicate:\", df.duplicated().sum())\n"
   ]
  }
 ],
 "metadata": {
  "kernelspec": {
   "display_name": "Python 3",
   "language": "python",
   "name": "python3"
  },
  "language_info": {
   "codemirror_mode": {
    "name": "ipython",
    "version": 3
   },
   "file_extension": ".py",
   "mimetype": "text/x-python",
   "name": "python",
   "nbconvert_exporter": "python",
   "pygments_lexer": "ipython3",
   "version": "3.12.6"
  }
 },
 "nbformat": 4,
 "nbformat_minor": 2
}
