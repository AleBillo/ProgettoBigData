{
 "cells": [
  {
   "cell_type": "code",
   "execution_count": 1,
   "metadata": {},
   "outputs": [],
   "source": [
    "# caricamento delle librerie fondamentali\n",
    "import pandas as pd\n",
    "import numpy as np\n",
    "import matplotlib.pyplot as plt\n",
    "\n",
    "# caricamento dei dati dal file CSV \n",
    "data_path = \"cinemaTicket_Ref.csv\"  # Percorso del file CSV"
   ]
  },
  {
   "cell_type": "code",
   "execution_count": null,
   "metadata": {},
   "outputs": [],
   "source": [
    "# PUNTO 1: Esplorazione dei dati\n",
    "# carico i dati in un DataFrame di pandas per le analisi e mostra le prime righe per capire la struttura dei dati\n",
    "df = pd.read_csv(data_path)\n",
    "print(\"Prime righe del dataset:\\n\", df.head())\n",
    "\n",
    "#un aggiunta di informazioni meno \"importanti\"\n",
    "print(\"Valori nulli per colonna:\\n\", df.isnull().sum())\n",
    "print(\"Righe duplicate:\", df.duplicated().sum())"
   ]
  },
  {
   "cell_type": "code",
   "execution_count": null,
   "metadata": {},
   "outputs": [],
   "source": [
    "# mostro anche le informazioni sul dataset, come i tipi di dati e valori mancanti\n",
    "print(\"Informazioni sul dataset:\\n\", df.info())"
   ]
  },
  {
   "cell_type": "code",
   "execution_count": null,
   "metadata": {},
   "outputs": [],
   "source": [
    "# calcolo le  statistiche descrittive per avere un'idea delle distribuzioni e delle caratteristiche numeriche\n",
    "print(\"Statistiche descrittive:\\n\", df.describe())"
   ]
  },
  {
   "cell_type": "code",
   "execution_count": null,
   "metadata": {},
   "outputs": [],
   "source": [
    "# PUNTO 2. analisi statistica\n",
    "# calcola la matrice di correlazione per vedere relazioni tra le variabili e filtro solo le colonne numeriche (altrimenti non funzionava)\n",
    "colonne_numeriche = df.select_dtypes(include=[np.number])\n",
    "\n",
    "# calcolo la matrice di correlazione\n",
    "correlation = colonne_numeriche.corr()\n",
    "print(\"Matrice di correlazione:\\n\", correlation)"
   ]
  },
  {
   "cell_type": "code",
   "execution_count": null,
   "metadata": {},
   "outputs": [],
   "source": [
    "# identifica le colonne utili per, ipoteticmanete, delle analisi approfondite future\n",
    "colonne_utili = ['ticket_price', 'day_of_week', 'total_sales']\n",
    "print(\"Colonne utili selezionate:\", colonne_utili)"
   ]
  },
  {
   "cell_type": "code",
   "execution_count": 7,
   "metadata": {},
   "outputs": [],
   "source": [
    "# mi creo una \"variabile\" vendite mensili per potermela gestire quando andro' a plottare\n",
    "#vendite_mensili = df.groupby('month')['total_sales'].sum()\n",
    "#print(\"Vendite totali per mese:\\n\", vendite_mensili)\n",
    "#non mi serve per ora"
   ]
  },
  {
   "cell_type": "code",
   "execution_count": 8,
   "metadata": {},
   "outputs": [],
   "source": [
    "#PUNTO 3. analisi di una correlazione incrociata\n",
    "# converto la colonna 'date' nel formato datetime e creo 'day_of_week'\n",
    "df['date'] = pd.to_datetime(df['date'])\n",
    "df['day_of_week'] = df['date'].dt.day_name()\n",
    "\n",
    "# calcolo il prezzo medio del biglietto per giorno della settimana\n",
    "prezzo_medio_per_giorno = df.groupby('day_of_week')['ticket_price'].mean()\n",
    "prezzo_medio_per_giorno = prezzo_medio_per_giorno / 10000 #divido per la formattazione quando andrò a plottare"
   ]
  },
  {
   "cell_type": "code",
   "execution_count": null,
   "metadata": {},
   "outputs": [],
   "source": [
    "# visualizzazione della correlazione tra il giorno della settimana e del prezzo medio del biglietto quel giorno\n",
    "plt.figure(figsize=(6, 5))\n",
    "prezzo_medio_per_giorno.plot(kind='bar', color='green', edgecolor='black')\n",
    "plt.title('Prezzo Medio del Biglietto per Giorno della Settimana')\n",
    "plt.xlabel('Giorno della Settimana')\n",
    "plt.ylabel('Prezzo Medio del Biglietto')\n",
    "plt.gca().get_yaxis().set_major_formatter(plt.FuncFormatter(lambda x, _: f'${x:.1f}')) #metodo per mettere il dollaro nella label dell'asse y, sfrutto gca\n",
    "plt.show()"
   ]
  },
  {
   "cell_type": "code",
   "execution_count": null,
   "metadata": {},
   "outputs": [],
   "source": [
    "# PUNTO 4. quali giorni della settimana generano più vendite.\n",
    "# calcolo la distribuzione giornaliera\n",
    "vendite_giornaliere = df.groupby('day_of_week')['total_sales'].sum()\n",
    "percentuale_vendite = (vendite_giornaliere / vendite_giornaliere.sum()) * 100\n"
   ]
  },
  {
   "cell_type": "code",
   "execution_count": null,
   "metadata": {},
   "outputs": [],
   "source": [
    "# creo un grafico a barre delle vendite\n",
    "plt.figure(figsize=(6, 5))\n",
    "vendite_giornaliere.plot(kind='bar', color='orange', edgecolor='black')\n",
    "plt.title('Vendite Totali per Giorno della Settimana')\n",
    "plt.xlabel('Giorno della Settimana')\n",
    "plt.ylabel('Vendite Totali')\n",
    "plt.show()"
   ]
  },
  {
   "cell_type": "code",
   "execution_count": null,
   "metadata": {},
   "outputs": [],
   "source": [
    "# creo un diagramma a torta della percentuale\n",
    "plt.figure(figsize=(5, 5))\n",
    "percentuale_vendite.plot(kind='pie', autopct='%1.1f%%', startangle=90, colors=plt.cm.Paired.colors)\n",
    "plt.title('Contributo Percentuale delle Vendite per Giorno della Settimana')\n",
    "plt.ylabel('')  # rimuovo l'etichetta sull'asse Y\n",
    "plt.show()"
   ]
  }
 ],
 "metadata": {
  "kernelspec": {
   "display_name": "Python 3",
   "language": "python",
   "name": "python3"
  },
  "language_info": {
   "codemirror_mode": {
    "name": "ipython",
    "version": 3
   },
   "file_extension": ".py",
   "mimetype": "text/x-python",
   "name": "python",
   "nbconvert_exporter": "python",
   "pygments_lexer": "ipython3",
   "version": "3.12.6"
  }
 },
 "nbformat": 4,
 "nbformat_minor": 2
}
